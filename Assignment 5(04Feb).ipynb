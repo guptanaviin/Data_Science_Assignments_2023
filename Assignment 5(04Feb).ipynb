{
 "cells": [
  {
   "cell_type": "code",
   "execution_count": 1,
   "id": "12d553a4-fa3d-4376-a74d-924eadcec1e0",
   "metadata": {},
   "outputs": [
    {
     "data": {
      "text/plain": [
       "[('Virat Kohli', 24936),\n",
       " ('Jack Kallis', 25534),\n",
       " ('Ricky Ponting', 27483),\n",
       " ('Sachin Tendulkar', 34357)]"
      ]
     },
     "execution_count": 1,
     "metadata": {},
     "output_type": "execute_result"
    }
   ],
   "source": [
    "#Question1:\n",
    "#Answer:\n",
    "list_=[('Sachin Tendulkar', 34357), ('Ricky Ponting', 27483), ('Jack Kallis', 25534), ('Virat Kohli', 24936)]\n",
    "list_\n",
    "sort_list=sorted(list_,key=lambda x:x[1])\n",
    "sort_list"
   ]
  },
  {
   "cell_type": "code",
   "execution_count": 2,
   "id": "3292fb6e-11da-45d7-bbfb-0fbf7eadd1f2",
   "metadata": {},
   "outputs": [
    {
     "data": {
      "text/plain": [
       "<map at 0x7fa7b06dab90>"
      ]
     },
     "execution_count": 2,
     "metadata": {},
     "output_type": "execute_result"
    }
   ],
   "source": [
    "#Question2:\n",
    "#Answer:\n",
    "l=[1,2,3,4,5,6,7,8,9,10]\n",
    "map(lambda x:x**2,l)"
   ]
  },
  {
   "cell_type": "code",
   "execution_count": 3,
   "id": "13bd9fd2-213c-402c-a74a-10400b746721",
   "metadata": {},
   "outputs": [
    {
     "data": {
      "text/plain": [
       "[1, 4, 9, 16, 25, 36, 49, 64, 81, 100]"
      ]
     },
     "execution_count": 3,
     "metadata": {},
     "output_type": "execute_result"
    }
   ],
   "source": [
    "list(map(lambda x:x**2,l))"
   ]
  },
  {
   "cell_type": "code",
   "execution_count": 4,
   "id": "57b6291a-a609-4519-8820-947294196a86",
   "metadata": {},
   "outputs": [
    {
     "data": {
      "text/plain": [
       "<map at 0x7fa7b06d9090>"
      ]
     },
     "execution_count": 4,
     "metadata": {},
     "output_type": "execute_result"
    }
   ],
   "source": [
    "#Question3:\n",
    "#Answer:\n",
    "list_2=[1,2,3,4,5,6,7,8,9,10]\n",
    "map(lambda x:str(x),list_2)"
   ]
  },
  {
   "cell_type": "code",
   "execution_count": 5,
   "id": "4e27f43d-4a95-413b-b97f-5e43f7194172",
   "metadata": {},
   "outputs": [
    {
     "data": {
      "text/plain": [
       "['1', '2', '3', '4', '5', '6', '7', '8', '9', '10']"
      ]
     },
     "execution_count": 5,
     "metadata": {},
     "output_type": "execute_result"
    }
   ],
   "source": [
    "result=list(map(lambda x:str(x),list_2))\n",
    "result"
   ]
  },
  {
   "cell_type": "code",
   "execution_count": 6,
   "id": "b0e3b827-a1fd-4ab7-ab64-ccf9bb22ee6c",
   "metadata": {},
   "outputs": [
    {
     "data": {
      "text/plain": [
       "('1', '2', '3', '4', '5', '6', '7', '8', '9', '10')"
      ]
     },
     "execution_count": 6,
     "metadata": {},
     "output_type": "execute_result"
    }
   ],
   "source": [
    "tuple_1=tuple(result)\n",
    "tuple_1"
   ]
  },
  {
   "cell_type": "code",
   "execution_count": 7,
   "id": "530031ea-ea6e-4232-95e8-88f3ce4bc21b",
   "metadata": {},
   "outputs": [
    {
     "name": "stdout",
     "output_type": "stream",
     "text": [
      "[1, 2, 3, 4, 5, 6, 7, 8, 9, 10, 11, 12, 13, 14, 15, 16, 17, 18, 19, 20, 21, 22, 23, 24, 25]\n"
     ]
    },
    {
     "data": {
      "text/plain": [
       "15511210043330985984000000"
      ]
     },
     "execution_count": 7,
     "metadata": {},
     "output_type": "execute_result"
    }
   ],
   "source": [
    "#Question4:\n",
    "#Answer:\n",
    "l=[]\n",
    "for i in range(1,26):\n",
    "    l.append(i)\n",
    "print(l)\n",
    "from functools import reduce\n",
    "reduce(lambda x,y:x*y,l)"
   ]
  },
  {
   "cell_type": "code",
   "execution_count": 8,
   "id": "05389c28-0be7-43ce-a43a-5a93bb79f1b2",
   "metadata": {},
   "outputs": [
    {
     "data": {
      "text/plain": [
       "[6, 60, 90, 120]"
      ]
     },
     "execution_count": 8,
     "metadata": {},
     "output_type": "execute_result"
    }
   ],
   "source": [
    "#Question5\n",
    "#Answer:\n",
    "list_5=[2,3,6,9,27,60,90,120,55,46]\n",
    "list(filter(lambda x: x%2==0 and x%3==0,list_5))"
   ]
  },
  {
   "cell_type": "code",
   "execution_count": 9,
   "id": "99e95b69-ea2d-4c2e-bb92-6ba1ef27f2a0",
   "metadata": {},
   "outputs": [
    {
     "data": {
      "text/plain": [
       "['php', 'aba', 'radar', 'level']"
      ]
     },
     "execution_count": 9,
     "metadata": {},
     "output_type": "execute_result"
    }
   ],
   "source": [
    "#Question6:\n",
    "#Answer:\n",
    "list_6=[\"python\",\"php\",\"aba\",\"radar\",\"level\"]\n",
    "list(filter(lambda x:x==x[::-1],list_6))"
   ]
  },
  {
   "cell_type": "code",
   "execution_count": null,
   "id": "91a44bb0-c2c4-4963-b595-ec43fbb9554e",
   "metadata": {},
   "outputs": [],
   "source": []
  }
 ],
 "metadata": {
  "kernelspec": {
   "display_name": "Python 3 (ipykernel)",
   "language": "python",
   "name": "python3"
  },
  "language_info": {
   "codemirror_mode": {
    "name": "ipython",
    "version": 3
   },
   "file_extension": ".py",
   "mimetype": "text/x-python",
   "name": "python",
   "nbconvert_exporter": "python",
   "pygments_lexer": "ipython3",
   "version": "3.10.8"
  }
 },
 "nbformat": 4,
 "nbformat_minor": 5
}
