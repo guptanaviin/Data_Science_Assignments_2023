{
 "cells": [
  {
   "cell_type": "markdown",
   "id": "97a24ee5-4a62-4a09-a43e-ef56a463b7b5",
   "metadata": {},
   "source": [
    "Question1:- Who developed Python programming language?\n",
    "Answer:- Python programming language was created by GUIDO VAN ROSSUM and Fisrt released on February 20,1991.\n",
    "\n",
    "Question2:- Which type of Programming does Python support?\n",
    "Answer:- Python is an interpreted programming language, supporting object-oriented, structured, and functional    programming.\n",
    "   \n",
    "Question3:- Is Python case sensitive when dealing with identifiers?\n",
    "Answer:- Yes, Python is a case sensitive language i.e. it treats uppercase and lowercase characters differently like Age,age,AGE.\n",
    "\n",
    "Question4:- What is the correct extension of the Python file?\n",
    "Answer:- The correct file extension for Python files is .py\n",
    "\n",
    "Qusetion5:- Is Python code compiled or interpreted?\n",
    "Answer:- Python is an interpreted language.\n",
    "\n",
    "Question6:- Name a few blocks of code used to define in Python language?\n",
    "Answer:- Indentation and Colon(:) is used to define a block of code in python.\n",
    "\n",
    "Qustion7:- State a character used to give single-line comments in Python?\n",
    "Answer:-  Single Hashtag(#) characterused to give single-line comments in Python.\n",
    "\n",
    "Question8:- Mention functions which can help us to find the version of python that we are currently working on?\n",
    "Answer:- The function sys. version can help us to find the version of python that we are currently working on.\n",
    "\n",
    "Question9:- Python suppports the creation of anonymous functions at runtime, using a construct called _ _ _ _ _ ?\n",
    "Answer:- Python supports the creation of anonymous functions at runtime, using a construct called lambda.\n",
    "\n",
    "Question10:- What does pip stand for the python?\n",
    "Answer:- pip stand for PREFERRED INSTALLER PROGRAM.\n",
    "\n",
    "Question11:- Mention a few built-in functions in Python?\n",
    "Answer:- Python built-in functions are: print() type() input() append() extend() insert() count() index() pop() remove() \n",
    "\n",
    "Question12:- What is the maximum possible length of an identifier in python?\n",
    "Answer:- 79 maximum possible length od an identifier in python.\n",
    "\n",
    "Question13:- What is the benefits of using Python?\n",
    "Answer:- 1.Presence of Libraries: Python is numerous standard libraries and Frameworks like Numpy Pandas Scikit Learn etc \n",
    "         2.Open Source and free: Python is free for use even for commercial purposes\n",
    "         3.Easy to learn: Python is popular for its excellent readability\n",
    "         4.Various Application in Every Field: Data Science, Web frameworks and applications, Building various GUI based Desktop applications etc.\n",
    "         \n",
    "Question14:- How to memory managed in python?\n",
    "Answer:- Python uses the dynamic memory allocation which is managed by the Heap data structure. Memory Heap holds the objects and other data structures that will be used in the program. \n",
    "\n",
    "Question15:- How to install Python on Windows and set path variables?\n",
    "Answer:- After this, install it on your PC. Look for the location where PYTHON has been installed on your PC using the following command on your command prompt: cmd python.\n",
    "\n",
    "Question16:- Is Indentation required in Python?\n",
    "Answer:- Indentation is mandatory in Python to define the blocks of statements. It is preferred to use whitespaces instead of tabs to indent in python.\n",
    "         \n",
    "\n",
    "\n",
    "    "
   ]
  }
 ],
 "metadata": {
  "kernelspec": {
   "display_name": "Python 3 (ipykernel)",
   "language": "python",
   "name": "python3"
  },
  "language_info": {
   "codemirror_mode": {
    "name": "ipython",
    "version": 3
   },
   "file_extension": ".py",
   "mimetype": "text/x-python",
   "name": "python",
   "nbconvert_exporter": "python",
   "pygments_lexer": "ipython3",
   "version": "3.10.8"
  }
 },
 "nbformat": 4,
 "nbformat_minor": 5
}
