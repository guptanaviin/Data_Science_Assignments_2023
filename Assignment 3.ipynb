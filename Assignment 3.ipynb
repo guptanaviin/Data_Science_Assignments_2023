{
 "cells": [
  {
   "cell_type": "code",
   "execution_count": 3,
   "id": "ac390492-1547-4ff1-a14b-0361cfa80475",
   "metadata": {},
   "outputs": [
    {
     "name": "stdout",
     "output_type": "stream",
     "text": [
      "A for loop is used to iterate over a sequence of elements, such as a list, tuple, or string. \n",
      "The basic syntax for a for loop in Python is:\n",
      "for variable in sequences:\n",
      "    #code to executed \n",
      "apple\n",
      "banana\n",
      "cherry\n",
      "A while loop, on the other hand, repeatedly executes a block of code as long as a given condition is true. \n",
      "The basic syntax for a while loop in Python is:\n",
      "for condition:\n",
      "    #code to executed\n",
      "1\n",
      "2\n",
      "3\n",
      "4\n",
      "5\n"
     ]
    }
   ],
   "source": [
    "#Question1: Explain with a example each when to use a For Loop and a While loop.\n",
    "#Answer: \n",
    "\n",
    "for_loop=\"\"\"A for loop is used to iterate over a sequence of elements, such as a list, tuple, or string. \n",
    "The basic syntax for a for loop in Python is:\n",
    "for variable in sequences:\n",
    "    #code to executed \"\"\"\n",
    "print(for_loop)\n",
    "\n",
    "fruits = [\"apple\",\"banana\",\"cherry\"]\n",
    "for x in fruits:\n",
    "    print(x)\n",
    "\n",
    "    \n",
    "while_loop=\"\"\"A while loop, on the other hand, repeatedly executes a block of code as long as a given condition is true. \n",
    "The basic syntax for a while loop in Python is:\n",
    "for condition:\n",
    "    #code to executed\"\"\"\n",
    "print(while_loop)\n",
    "\n",
    "i = 1\n",
    "while i < 6:\n",
    "    print(i)\n",
    "    i=i+1"
   ]
  },
  {
   "cell_type": "code",
   "execution_count": 4,
   "id": "b6e3c244-ffa6-4e2b-8d18-c35c7f062407",
   "metadata": {},
   "outputs": [
    {
     "name": "stdout",
     "output_type": "stream",
     "text": [
      "55\n",
      "3628800\n",
      "55\n",
      "3628800\n"
     ]
    }
   ],
   "source": [
    "#Question2: Write a python program to print the sum and product of the first 10 natural numbers using for and while loop.\n",
    "#Answer:\n",
    "sum = 0\n",
    "for i in range(1,11):\n",
    "    sum=sum+i\n",
    "    i=i+1\n",
    "print(sum)\n",
    "product=1\n",
    "for i in range(1,11):\n",
    "    product=product*i\n",
    "    i=i*1\n",
    "print(product)\n",
    "\n",
    "i=0\n",
    "while (i>=10):\n",
    "    sum=sum+i\n",
    "    i=i+1\n",
    "print(sum)\n",
    "\n",
    "i=1\n",
    "while (i>=10):\n",
    "    product=product*i\n",
    "    i=i+1\n",
    "print(product)"
   ]
  },
  {
   "cell_type": "code",
   "execution_count": 5,
   "id": "bf54fe47-6775-4a43-8db1-0e4b3f9c8591",
   "metadata": {},
   "outputs": [
    {
     "name": "stdin",
     "output_type": "stream",
     "text": [
      "Enter the units of electricity: 310\n"
     ]
    },
    {
     "name": "stdout",
     "output_type": "stream",
     "text": [
      "User will be charged Rs.20 per unit and User Electricity Bill: 2250.0\n"
     ]
    }
   ],
   "source": [
    "#Question3: Create a python program to compute the electricity bill for a household.\n",
    "#Answer3:\n",
    "units = int(input(\"Enter the units of electricity:\"))\n",
    "if units<=100:\n",
    "    Electricity_bill=units*4.5\n",
    "    print(\"User will be charged Rs.4.5 per unit and User Electicity Bill:\",Electricity_bill)\n",
    "elif units<=200:\n",
    "    Electricity_bill=100*4.5+(units-100)*6\n",
    "    print(\"User will be charged Rs.6 per unit and User Electicity Bill:\",Electricity_bill)\n",
    "elif units<=300:\n",
    "    Electricity_bill=100*4.5+100*6+(units-200)*10\n",
    "    print(\"User will be charged Rs.10 per unit and User Electricity Bill:\",Electricity_bill)\n",
    "else:\n",
    "    Electricity_bill=100*4.5+100*6+100*10+(units-300)*20\n",
    "    print(\"User will be charged Rs.20 per unit and User Electricity Bill:\",Electricity_bill)"
   ]
  },
  {
   "cell_type": "code",
   "execution_count": 6,
   "id": "6eb157ac-2db6-491c-a0aa-c90f5cad5319",
   "metadata": {},
   "outputs": [
    {
     "name": "stdout",
     "output_type": "stream",
     "text": [
      "Cubees using for loop [0, 2, 4, 5, 6, 8, 10, 12, 14, 15, 16, 18, 20, 22, 24, 25, 26, 28, 30, 32, 34, 35, 36, 38, 40, 42, 44, 45, 46, 48, 50, 52, 54, 55, 56, 58, 60, 62, 64, 65, 66, 68, 70, 72, 74, 75, 76, 78, 80, 82, 84, 85, 86, 88, 90, 92, 94, 95, 96, 98]\n",
      "Cube using while loop [3, 5, 6, 7, 9, 11, 13, 15, 16, 17, 19, 21, 23, 25, 26, 27, 29, 31, 33, 35, 36, 37, 39, 41, 43, 45, 46, 47, 49, 51, 53, 55, 56, 57, 59, 61, 63, 65, 66, 67, 69, 71, 73, 75, 76, 77, 79, 81, 83, 85, 86, 87, 89, 91, 93, 95, 96, 97, 99, 101]\n"
     ]
    }
   ],
   "source": [
    "#Question4: Create a list of number 1 to 100. Use For loop and While loop cubes and Number divisible by 4 or 6.\n",
    "#Answer4:\n",
    "\n",
    "#for loop\n",
    "cube_for_loop=[]\n",
    "for i in range(0,100):\n",
    "    cube=i**3\n",
    "    if (cube%4==0 or cube%5==0):\n",
    "        cube_for_loop.append(i)\n",
    "print(\"Cubees using for loop\",cube_for_loop)\n",
    "\n",
    "#while loop\n",
    "cube_while_loop=[]\n",
    "i=1\n",
    "while i<=100:\n",
    "    cube=i**3\n",
    "    i=i+1\n",
    "    if (cube%4==0 or cube%5==0):\n",
    "        cube_while_loop.append(i)\n",
    "print(\"Cube using while loop\",cube_while_loop)"
   ]
  },
  {
   "cell_type": "code",
   "execution_count": 8,
   "id": "fcdd2e3e-d40e-4f82-911f-3284d476bf7c",
   "metadata": {},
   "outputs": [
    {
     "name": "stdout",
     "output_type": "stream",
     "text": [
      "Number of Vowels in this string: 12\n"
     ]
    }
   ],
   "source": [
    "#Question5: Write a program to filter count vowels in the below-giving string.\n",
    "#Answer5:\n",
    "\n",
    "string=\"I want to become a data scientist\"\n",
    "vowel= \"aeiouAEIOU\"\n",
    "count=0\n",
    "\n",
    "for char in string:\n",
    "    if char in vowel:\n",
    "        count = count+1\n",
    "print(\"Number of Vowels in this string:\",count)"
   ]
  },
  {
   "cell_type": "code",
   "execution_count": null,
   "id": "300bb6c1-c0a8-4732-bdf2-ed3dd6a4f00c",
   "metadata": {},
   "outputs": [],
   "source": []
  }
 ],
 "metadata": {
  "kernelspec": {
   "display_name": "Python 3 (ipykernel)",
   "language": "python",
   "name": "python3"
  },
  "language_info": {
   "codemirror_mode": {
    "name": "ipython",
    "version": 3
   },
   "file_extension": ".py",
   "mimetype": "text/x-python",
   "name": "python",
   "nbconvert_exporter": "python",
   "pygments_lexer": "ipython3",
   "version": "3.10.8"
  }
 },
 "nbformat": 4,
 "nbformat_minor": 5
}
