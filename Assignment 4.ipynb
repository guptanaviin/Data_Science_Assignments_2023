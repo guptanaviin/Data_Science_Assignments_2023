{
 "cells": [
  {
   "cell_type": "code",
   "execution_count": 1,
   "id": "6eb5fcfa-1c18-4376-9357-e07341335185",
   "metadata": {},
   "outputs": [
    {
     "data": {
      "text/plain": [
       "[1, 3, 5, 7, 9, 11, 13, 15, 17, 19, 21, 23, 25]"
      ]
     },
     "execution_count": 1,
     "metadata": {},
     "output_type": "execute_result"
    }
   ],
   "source": [
    "#Question1:\n",
    "#Answer1: def keyword is used to create a function.\n",
    "\n",
    "odd_list=[]\n",
    "def odd():\n",
    "    for i in range(1,26):\n",
    "        if i%2 != 0:\n",
    "            odd_list.append(i)\n",
    "    return (odd_list)\n",
    "odd()"
   ]
  },
  {
   "cell_type": "code",
   "execution_count": 2,
   "id": "f81bf5e6-9a47-407f-9b3d-cfd54881bb75",
   "metadata": {},
   "outputs": [
    {
     "name": "stdout",
     "output_type": "stream",
     "text": [
      "The single asterisk (*) before a variable name is used to pass a non-keyworded, variable-length argument list \n",
      "to a function.\n"
     ]
    },
    {
     "data": {
      "text/plain": [
       "(1, 'naveen', 'smith', 5, 50.6)"
      ]
     },
     "execution_count": 2,
     "metadata": {},
     "output_type": "execute_result"
    }
   ],
   "source": [
    "#Question2:\n",
    "#Answer2: \n",
    "args_ = \"\"\"The single asterisk (*) before a variable name is used to pass a non-keyworded, variable-length argument list \n",
    "to a function.\"\"\"\n",
    "print(args_)\n",
    "\n",
    "def solve(*args):\n",
    "    return args\n",
    "solve(1,\"naveen\",\"smith\",5,50.6)"
   ]
  },
  {
   "cell_type": "code",
   "execution_count": 3,
   "id": "64b59d1b-73e8-4bf2-8907-334f513eb48f",
   "metadata": {},
   "outputs": [
    {
     "name": "stdout",
     "output_type": "stream",
     "text": [
      "the double asterisk (**) is used to pass keyworded, variable-length arguments.\n"
     ]
    },
    {
     "data": {
      "text/plain": [
       "{'a': [1, 2, 3, 5], 'b': 'sudh', 'c': 2.364}"
      ]
     },
     "execution_count": 3,
     "metadata": {},
     "output_type": "execute_result"
    }
   ],
   "source": [
    "kwargs_ = \"\"\"the double asterisk (**) is used to pass keyworded, variable-length arguments.\"\"\"\n",
    "print(kwargs_)\n",
    "\n",
    "def solve1(**kwargs):\n",
    "    return kwargs\n",
    "solve1(a=[1,2,3,5],b=\"sudh\",c=2.364)\n"
   ]
  },
  {
   "cell_type": "code",
   "execution_count": 4,
   "id": "5eca64af-15bb-443f-ad53-03d42c0529d5",
   "metadata": {},
   "outputs": [
    {
     "name": "stdout",
     "output_type": "stream",
     "text": [
      "Iterator in Python is an object that is used to iterate over iterable objects like lists, tuples, dicts, and \n",
      "sets. \n",
      "The iterator object is initialized using the iter() method. It uses the next() method for iteration.\n",
      "1.__iter__(): The iter() method is called for the initialization of an iterator. This returns an iterator object\n",
      "2.__next__(): The next method returns the next value for the iterable. When we use a for loop to traverse any iterable \n",
      "object, internally it uses the iter() method to get an iterator object, which further uses the next() method to \n",
      "iterate over. This method raises a StopIteration to signal the end of the iteration.\n",
      "2\n",
      "4\n",
      "6\n",
      "8\n",
      "10\n"
     ]
    }
   ],
   "source": [
    "#Question3:\n",
    "#Answer3:\n",
    "\n",
    "iterator_=\"\"\"Iterator in Python is an object that is used to iterate over iterable objects like lists, tuples, dicts, and \n",
    "sets. \n",
    "The iterator object is initialized using the iter() method. It uses the next() method for iteration.\n",
    "1.__iter__(): The iter() method is called for the initialization of an iterator. This returns an iterator object\n",
    "2.__next__(): The next method returns the next value for the iterable. When we use a for loop to traverse any iterable \n",
    "object, internally it uses the iter() method to get an iterator object, which further uses the next() method to \n",
    "iterate over. This method raises a StopIteration to signal the end of the iteration.\"\"\"\n",
    "print(iterator_)\n",
    "\n",
    "list=[2, 4, 6, 8, 10, 12, 14,16, 18, 20]\n",
    "it=iter(list)\n",
    "for i in range(5):\n",
    "    print(next(it))"
   ]
  },
  {
   "cell_type": "code",
   "execution_count": 5,
   "id": "a68fc879-f5a5-4c06-b53a-c01178ae1a2b",
   "metadata": {},
   "outputs": [
    {
     "name": "stdout",
     "output_type": "stream",
     "text": [
      "0\n",
      "1\n",
      "1\n",
      "2\n",
      "3\n",
      "5\n",
      "8\n",
      "13\n"
     ]
    }
   ],
   "source": [
    "#Question4:\n",
    "#Answer:\n",
    "generator_=\"\"\"In Python, a generator function is a special kind of function that generates a generator object, which is \n",
    "an iterator. Unlike a regular function, a generator function does not return a value when it is called. Instead, it \n",
    "returns a generator object that can be iterated over to produce a sequence of values.\n",
    "\n",
    "A generator function is defined like a normal function, but instead of using the return statement to return a value, it \n",
    "uses the 'yield' statement. When the yield statement is executed, the function returns the value specified after yield \n",
    "and suspends its execution until the next value is requested from the generator.\"\"\"\n",
    "\n",
    "def fib(n):\n",
    "    a,b=0,1\n",
    "    for i in range(n):\n",
    "        yield a\n",
    "        a,b=b,a+b\n",
    "for i in fib(8):\n",
    "    print(i)    "
   ]
  },
  {
   "cell_type": "code",
   "execution_count": 6,
   "id": "9a7189c5-351b-499e-bd2a-72b00c8244bf",
   "metadata": {},
   "outputs": [
    {
     "name": "stdout",
     "output_type": "stream",
     "text": [
      "2\n",
      "3\n",
      "5\n",
      "7\n",
      "11\n",
      "13\n",
      "17\n",
      "19\n",
      "23\n",
      "29\n",
      "31\n",
      "37\n",
      "41\n",
      "43\n",
      "47\n",
      "53\n",
      "59\n",
      "61\n",
      "67\n",
      "71\n",
      "73\n"
     ]
    }
   ],
   "source": [
    "#Question5:\n",
    "#Answer:\n",
    "def prime():\n",
    "    for i in range(2,1000):\n",
    "        count=0\n",
    "        for j in range(2,i):\n",
    "            if i%j==0:\n",
    "                count=1\n",
    "        if count==0:\n",
    "            yield(i)\n",
    "prime_number=prime()\n",
    "for i in range(21):\n",
    "    print(next(prime_number))"
   ]
  },
  {
   "cell_type": "code",
   "execution_count": 7,
   "id": "b2edde19-4a61-4301-a79d-5f4ae50f6042",
   "metadata": {},
   "outputs": [
    {
     "name": "stdout",
     "output_type": "stream",
     "text": [
      "[0, 1, 1, 2, 3, 5, 8, 13, 21, 34]\n"
     ]
    }
   ],
   "source": [
    "#Question6:\n",
    "#Answer:\n",
    "def fibonacci(n):\n",
    "    a, b = 0, 1\n",
    "    result = []\n",
    "    i = 0\n",
    "    while i < n:\n",
    "        result.append(a)\n",
    "        a, b = b, a + b\n",
    "        i=i+1\n",
    "    return result\n",
    "print(fibonacci(10))          "
   ]
  },
  {
   "cell_type": "code",
   "execution_count": 8,
   "id": "d231b916-2475-4bea-b982-c2630076077b",
   "metadata": {},
   "outputs": [
    {
     "name": "stdout",
     "output_type": "stream",
     "text": [
      "['p', 'w', 's', 'k', 'i', 'l', 'l', 's']\n"
     ]
    }
   ],
   "source": [
    "#Question7:\n",
    "#answer:\n",
    "string = \"pwskills\"\n",
    "result=[i for i in string]\n",
    "print(result)"
   ]
  },
  {
   "cell_type": "code",
   "execution_count": 9,
   "id": "7412bf9d-ed61-46ce-9b2a-ad2370b6dd18",
   "metadata": {},
   "outputs": [
    {
     "name": "stdin",
     "output_type": "stream",
     "text": [
      "Enter the number: 524\n"
     ]
    },
    {
     "name": "stdout",
     "output_type": "stream",
     "text": [
      "Not a Palindrome Number\n"
     ]
    }
   ],
   "source": [
    "#Question8:\n",
    "#Answer:\n",
    "i = int(input(\"Enter the number:\"))\n",
    "rev=0\n",
    "x=i\n",
    "while (i>0):\n",
    "    rev=(rev*10)+i%10\n",
    "    i=i//10\n",
    "if(x==rev):\n",
    "    print(\"Palindrome Number\")\n",
    "else:\n",
    "    print(\"Not a Palindrome Number\")"
   ]
  },
  {
   "cell_type": "code",
   "execution_count": 10,
   "id": "ae2c9aae-42bb-4776-a812-fcd24e31abe0",
   "metadata": {},
   "outputs": [
    {
     "name": "stdout",
     "output_type": "stream",
     "text": [
      "[0, 1, 2, 3, 4, 5, 6, 7, 8, 9, 10, 11, 12, 13, 14, 15, 16, 17, 18, 19, 20, 21, 22, 23, 24, 25, 26, 27, 28, 29, 30, 31, 32, 33, 34, 35, 36, 37, 38, 39, 40, 41, 42, 43, 44, 45, 46, 47, 48, 49, 50, 51, 52, 53, 54, 55, 56, 57, 58, 59, 60, 61, 62, 63, 64, 65, 66, 67, 68, 69, 70, 71, 72, 73, 74, 75, 76, 77, 78, 79, 80, 81, 82, 83, 84, 85, 86, 87, 88, 89, 90, 91, 92, 93, 94, 95, 96, 97, 98, 99]\n"
     ]
    }
   ],
   "source": [
    "#Question9:\n",
    "#Answer: Part A\n",
    "number=[i for i in range(0,100)]\n",
    "print(number)"
   ]
  },
  {
   "cell_type": "code",
   "execution_count": 12,
   "id": "df0a8a65-6b4b-46b2-a048-c76298d0c106",
   "metadata": {},
   "outputs": [
    {
     "name": "stdout",
     "output_type": "stream",
     "text": [
      "[1, 3, 5, 7, 9, 11, 13, 15, 17, 19, 21, 23, 25, 27, 29, 31, 33, 35, 37, 39, 41, 43, 45, 47, 49, 51, 53, 55, 57, 59, 61, 63, 65, 67, 69, 71, 73, 75, 77, 79, 81, 83, 85, 87, 89, 91, 93, 95, 97, 99]\n"
     ]
    }
   ],
   "source": [
    "#Question9:\n",
    "#Answer: Part B\n",
    "odd_number=[i for i in range(0,100) if i%2!=0]\n",
    "print(odd_number)"
   ]
  },
  {
   "cell_type": "code",
   "execution_count": null,
   "id": "4835dc69-0bdf-48c1-92bf-1363f71245a4",
   "metadata": {},
   "outputs": [],
   "source": []
  }
 ],
 "metadata": {
  "kernelspec": {
   "display_name": "Python 3 (ipykernel)",
   "language": "python",
   "name": "python3"
  },
  "language_info": {
   "codemirror_mode": {
    "name": "ipython",
    "version": 3
   },
   "file_extension": ".py",
   "mimetype": "text/x-python",
   "name": "python",
   "nbconvert_exporter": "python",
   "pygments_lexer": "ipython3",
   "version": "3.10.8"
  }
 },
 "nbformat": 4,
 "nbformat_minor": 5
}
