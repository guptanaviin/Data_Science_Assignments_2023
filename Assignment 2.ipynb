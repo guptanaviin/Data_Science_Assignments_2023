{
 "cells": [
  {
   "cell_type": "code",
   "execution_count": 4,
   "id": "4bb36408-7fa0-4022-a4ea-e519f55a5531",
   "metadata": {},
   "outputs": [
    {
     "name": "stdin",
     "output_type": "stream",
     "text": [
      "Enter the Student Percentages: 90\n"
     ]
    },
    {
     "name": "stdout",
     "output_type": "stream",
     "text": [
      "You have Grade B\n"
     ]
    }
   ],
   "source": [
    "#Question1: Write a program to accept percentage from the user and display the grade \n",
    "per = int(input(\"Enter the Student Percentages:\"))\n",
    "if per > 90:\n",
    "    print(\"You have Grade A\")\n",
    "elif per > 80 and per <= 90: \n",
    "    print(\"You have Grade B\")\n",
    "elif per >= 60 and per <= 80:\n",
    "    print(\"You have Grade C\")\n",
    "else:\n",
    "    print(\"You have Grade D\")"
   ]
  },
  {
   "cell_type": "code",
   "execution_count": 7,
   "id": "c076d50d-cae7-4349-afa7-85c96a2a1a2f",
   "metadata": {},
   "outputs": [
    {
     "name": "stdin",
     "output_type": "stream",
     "text": [
      "Enter the cost price of bike: 200000\n"
     ]
    },
    {
     "name": "stdout",
     "output_type": "stream",
     "text": [
      "Road Tax to be paid 15%\n"
     ]
    }
   ],
   "source": [
    "#Question2: Write a program to accept the cost price of a bike and display the road tax to be paid \n",
    "cost_price = int(input(\"Enter the cost price of bike:\"))\n",
    "if cost_price > 100000:\n",
    "    print(\"Road Tax to be paid 15%\")\n",
    "elif cost_price > 50000 and cost_price <= 100000:\n",
    "    print(\"Road Tax to be paid 10%\")\n",
    "else:\n",
    "    print(\"Road Tax to be paid 5%\")"
   ]
  },
  {
   "cell_type": "code",
   "execution_count": 23,
   "id": "861f1fc7-58b9-4efb-90a4-1c43c07ba5fd",
   "metadata": {},
   "outputs": [
    {
     "name": "stdin",
     "output_type": "stream",
     "text": [
      "Enter the city: mumbai\n"
     ]
    },
    {
     "name": "stdout",
     "output_type": "stream",
     "text": [
      "No monuments find in this city\n"
     ]
    }
   ],
   "source": [
    "#Question3: Accept any city from the user and display the monuments of that city.\n",
    "city = input(\"Enter the city:\")\n",
    "if city.lower() == \"delhi\":\n",
    "    print(\"Red Fort in delhi\")\n",
    "elif city.lower() == \"agar\":\n",
    "    print(\"Taj Mahal in agar\")\n",
    "elif city.lower() == \"jaipur\":\n",
    "    print(\"Jal Mahal in jaipur\")\n",
    "else:\n",
    "    print(\"No monuments find in this city\")"
   ]
  },
  {
   "cell_type": "code",
   "execution_count": 12,
   "id": "52c53faf-1dab-480c-9aef-276c0c617ac0",
   "metadata": {},
   "outputs": [
    {
     "name": "stdout",
     "output_type": "stream",
     "text": [
      "3\n"
     ]
    }
   ],
   "source": [
    "#Question4: Check how many times a given number can be divided by 3 before it is less than or equal to 10.\n",
    "count=0\n",
    "for i in range(1,10):\n",
    "    if i%3==1:\n",
    "        count=count+1\n",
    "print(count)"
   ]
  },
  {
   "cell_type": "code",
   "execution_count": 9,
   "id": "f702315f-97f8-4c9a-b7d9-44c90bdd1ad8",
   "metadata": {},
   "outputs": [
    {
     "name": "stdout",
     "output_type": "stream",
     "text": [
      "A While loop in Python allows a part of the code to be executed repeatedly as long as a given condition \n",
      "is true. The While loop in Python is also called a pre-tested loop. It is typically used when the number of iterations is\n",
      "not known.\n",
      "1\n",
      "2\n",
      "3\n",
      "4\n"
     ]
    }
   ],
   "source": [
    "#Question5: Why and When to use While loop in python give a detailed description with example.\n",
    "while_loop = \"\"\"A While loop in Python allows a part of the code to be executed repeatedly as long as a given condition \n",
    "is true. The While loop in Python is also called a pre-tested loop. It is typically used when the number of iterations is\n",
    "not known.\"\"\"\n",
    "print(while_loop)\n",
    "#Example:\n",
    "i = 1\n",
    "while i<5:\n",
    "    print(i)\n",
    "    i=i+1"
   ]
  },
  {
   "cell_type": "code",
   "execution_count": 13,
   "id": "71391b66-f28a-4274-80ae-c2c3a7626dc3",
   "metadata": {},
   "outputs": [
    {
     "name": "stdin",
     "output_type": "stream",
     "text": [
      "Enter number of rows :  6\n"
     ]
    },
    {
     "name": "stdout",
     "output_type": "stream",
     "text": [
      "* \n",
      "* * \n",
      "* * * \n",
      "* * * * \n",
      "* * * * * \n",
      "* * * * * * \n"
     ]
    }
   ],
   "source": [
    "#Question6: Use nested while loop to print 3 different pattern.\n",
    "n = int(input('Enter number of rows : '))\n",
    "i = 1\n",
    "while i <= n: \n",
    "    j = 1\n",
    "    while j <= i:\n",
    "        print(\"*\", end = \" \")\n",
    "        j=j+1\n",
    "    print()\n",
    "    i=i+1"
   ]
  },
  {
   "cell_type": "code",
   "execution_count": 6,
   "id": "f0afa11e-f528-4e77-884d-c7f0fb14fe67",
   "metadata": {},
   "outputs": [
    {
     "name": "stdout",
     "output_type": "stream",
     "text": [
      "10\n",
      "9\n",
      "8\n",
      "7\n",
      "6\n",
      "5\n",
      "4\n",
      "3\n",
      "2\n",
      "1\n"
     ]
    }
   ],
   "source": [
    "#Question7: Reverse a while loop to display numbers 10 to 1.\n",
    "i=10\n",
    "while i>=1:\n",
    "    print(i)\n",
    "    i=i-1"
   ]
  },
  {
   "cell_type": "code",
   "execution_count": 14,
   "id": "6a868c5b-f4b8-46d1-a550-6eff4a6a93c8",
   "metadata": {},
   "outputs": [
    {
     "name": "stdout",
     "output_type": "stream",
     "text": [
      "10\n",
      "9\n",
      "8\n",
      "7\n",
      "6\n",
      "5\n",
      "4\n",
      "3\n",
      "2\n",
      "1\n"
     ]
    }
   ],
   "source": [
    "#Question8: Reverse a while loop to display numbers 10 to 1.\n",
    "i=10\n",
    "while i>=1:\n",
    "    print(i)\n",
    "    i=i-1"
   ]
  }
 ],
 "metadata": {
  "kernelspec": {
   "display_name": "Python 3 (ipykernel)",
   "language": "python",
   "name": "python3"
  },
  "language_info": {
   "codemirror_mode": {
    "name": "ipython",
    "version": 3
   },
   "file_extension": ".py",
   "mimetype": "text/x-python",
   "name": "python",
   "nbconvert_exporter": "python",
   "pygments_lexer": "ipython3",
   "version": "3.10.8"
  }
 },
 "nbformat": 4,
 "nbformat_minor": 5
}
