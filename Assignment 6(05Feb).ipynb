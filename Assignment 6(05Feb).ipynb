{
 "cells": [
  {
   "cell_type": "code",
   "execution_count": 1,
   "id": "b283571e-3fdd-4a04-9cf3-f5b47bc01910",
   "metadata": {},
   "outputs": [
    {
     "name": "stdout",
     "output_type": "stream",
     "text": [
      "A class is a blueprint or template for creating objects. It is a way of defining the properties and \n",
      "behaviors that an object of that class should have. A class can be thought of as a type, and objects of that class can \n",
      "be thought of as instances of that type. \n",
      "\n"
     ]
    },
    {
     "data": {
      "text/plain": [
       "('rohan', 26)"
      ]
     },
     "execution_count": 1,
     "metadata": {},
     "output_type": "execute_result"
    }
   ],
   "source": [
    "#Question1: Explain Class and Object with respect to Object-Oriented Programming. Give a suitable example.\n",
    "#Answer: Part A\n",
    "class_= \"\"\"A class is a blueprint or template for creating objects. It is a way of defining the properties and \n",
    "behaviors that an object of that class should have. A class can be thought of as a type, and objects of that class can \n",
    "be thought of as instances of that type.\"\"\"\n",
    "print(class_,\"\\n\")\n",
    "class person:\n",
    "    def __init__(self,name, age):\n",
    "        self.name = name\n",
    "        self.age = age\n",
    "    def return_details(self):\n",
    "        return self.name,self.age\n",
    "person_details=person(\"rohan\",26)\n",
    "person_details.return_details()"
   ]
  },
  {
   "cell_type": "code",
   "execution_count": 2,
   "id": "d13c59a8-4934-4f04-a0d2-f0f13f20a5bf",
   "metadata": {},
   "outputs": [
    {
     "name": "stdout",
     "output_type": "stream",
     "text": [
      "An object, on the other hand, is an instance of a class. It is a specific instance of the class that has \n",
      "its own unique values for the properties defined in the class and can perform the behaviors specified in the class. \n",
      "Objects are also sometimes referred to as instances. \n",
      "\n",
      "The type of object class object is: \n",
      "<class 'object'>\n"
     ]
    }
   ],
   "source": [
    "# Part B\n",
    "object_=\"\"\"An object, on the other hand, is an instance of a class. It is a specific instance of the class that has \n",
    "its own unique values for the properties defined in the class and can perform the behaviors specified in the class. \n",
    "Objects are also sometimes referred to as instances.\"\"\"\n",
    "print(object_,\"\\n\")\n",
    "obj = object()\n",
    "print(\"The type of object class object is: \")\n",
    "print(type(obj))"
   ]
  },
  {
   "cell_type": "code",
   "execution_count": 3,
   "id": "a720987e-a07f-4e6b-aa0c-66d4c938626d",
   "metadata": {},
   "outputs": [],
   "source": [
    "#Question2: Name the four pillars of OOPs.\n",
    "#Answer:The four pillars of object-oriented programming are:\n",
    "#1.Abstraction\n",
    "#2.Encapsulation\n",
    "#3.Inheritance\n",
    "#4.Polymorphism"
   ]
  },
  {
   "cell_type": "code",
   "execution_count": 4,
   "id": "e76369b6-dbde-4a8c-8e0c-73422a0c39ae",
   "metadata": {},
   "outputs": [
    {
     "name": "stdout",
     "output_type": "stream",
     "text": [
      "The __init__ function is a special method in Python classes and is used to initialize the objects of the \n",
      "class. It is called when an object of the class is created and it allows the class to initialize its attributes with \n",
      "the values passed as arguments.\n",
      "The syntax for defining an __init__ method is:\n",
      "class person:\n",
      "    def __init__(self, arg1, arg2, ...):\n",
      "        self.arg1 = arg1\n",
      "        self.arg2 = arg2\n"
     ]
    },
    {
     "data": {
      "text/plain": [
       "(95646846664, 'rohan@gmail.com', 102)"
      ]
     },
     "execution_count": 4,
     "metadata": {},
     "output_type": "execute_result"
    }
   ],
   "source": [
    "#Questio3: Explain why the __init__() function is used. Give a suitable example.\n",
    "#Answer: \n",
    "__init__=\"\"\"The __init__ function is a special method in Python classes and is used to initialize the objects of the \n",
    "class. It is called when an object of the class is created and it allows the class to initialize its attributes with \n",
    "the values passed as arguments.\n",
    "The syntax for defining an __init__ method is:\n",
    "class person:\n",
    "    def __init__(self, arg1, arg2, ...):\n",
    "        self.arg1 = arg1\n",
    "        self.arg2 = arg2\"\"\"\n",
    "print(__init__)\n",
    "        \n",
    "class pwskills:\n",
    "    def __init__(self ,phone_number , email_id , student_id ):\n",
    "        self.phone_number = phone_number\n",
    "        self.email_id = email_id\n",
    "        self.student_id = student_id\n",
    "    \n",
    "    def return_student_detials(self) : \n",
    "        return self.phone_number ,self.email_id ,self.student_id    \n",
    "rohan=pwskills(95646846664,\"rohan@gmail.com\",102)\n",
    "rohan.return_student_detials()"
   ]
  },
  {
   "cell_type": "code",
   "execution_count": 5,
   "id": "9e15d1fa-6427-4e28-b07e-2aabe437a80d",
   "metadata": {},
   "outputs": [
    {
     "name": "stdout",
     "output_type": "stream",
     "text": [
      "In object-oriented programming (OOP), self is a reference to the current instance of the class. It is used to \n",
      "access the attributes and methods of the class from within the class itself.\n",
      "In Python, every method in a class takes self as its first parameter, and when the method is called on an object, the\n",
      "object instance is automatically passed as the first argument. This allows the method to access and manipulate the \n",
      "attributes and other data associated with the object.\n"
     ]
    }
   ],
   "source": [
    "#Question4: Why self is used in OOPs?\n",
    "#Answer:\n",
    "self_=\"\"\"In object-oriented programming (OOP), self is a reference to the current instance of the class. It is used to \n",
    "access the attributes and methods of the class from within the class itself.\n",
    "In Python, every method in a class takes self as its first parameter, and when the method is called on an object, the\n",
    "object instance is automatically passed as the first argument. This allows the method to access and manipulate the \n",
    "attributes and other data associated with the object.\"\"\"\n",
    "print(self_)"
   ]
  },
  {
   "cell_type": "code",
   "execution_count": 8,
   "id": "fb3e3723-b3d3-40a5-8a5c-a40a464c6b69",
   "metadata": {},
   "outputs": [
    {
     "name": "stdout",
     "output_type": "stream",
     "text": [
      "Inheritance is a mechanism in object-oriented programming (OOP) that allows a new class to be derived \n",
      "from an existing class. The new class, called the subclass or derived class, inherits the attributes and behaviors of \n",
      "the parent class, called the superclass or base class. Inheritance allows for code reuse and provides a way to create \n",
      "new classes that are related to existing classes.\n",
      "\n",
      "Types of Inheritance are:\n",
      "1.Single Inheritance\n",
      "2.Mutliple Inheritance\n",
      "3.Multi-level Inheritance\n",
      "4.Hierarchical Inheritance\n",
      "5.Hybird Inheritance\n"
     ]
    }
   ],
   "source": [
    "#Question5: What is inheritance? Give an example for each type of inheritance.\n",
    "#Answer:\n",
    "Inheritance_=\"\"\"Inheritance is a mechanism in object-oriented programming (OOP) that allows a new class to be derived \n",
    "from an existing class. The new class, called the subclass or derived class, inherits the attributes and behaviors of \n",
    "the parent class, called the superclass or base class. Inheritance allows for code reuse and provides a way to create \n",
    "new classes that are related to existing classes.\n",
    "\n",
    "Types of Inheritance are:\n",
    "1.Single Inheritance\n",
    "2.Mutliple Inheritance\n",
    "3.Multi-level Inheritance\n",
    "4.Hierarchical Inheritance\n",
    "5.Hybird Inheritance\"\"\"\n",
    "print(Inheritance_)"
   ]
  },
  {
   "cell_type": "code",
   "execution_count": 11,
   "id": "3a39e970-5808-4a1e-b9a4-2c26a6f4d880",
   "metadata": {},
   "outputs": [
    {
     "name": "stdout",
     "output_type": "stream",
     "text": [
      "Single inheritance enables a derived class to inherit properties from a single parent class, thus enabling code \n",
      "reusability and the addition of new features to existing code.\n",
      "\n",
      "\n",
      "This function is in parent class.\n",
      "This function is in child class.\n"
     ]
    }
   ],
   "source": [
    "single=\"\"\"Single inheritance enables a derived class to inherit properties from a single parent class, thus enabling code \n",
    "reusability and the addition of new features to existing code.\"\"\"\n",
    "print(single)\n",
    "print(\"\\n\")\n",
    "\n",
    "class Parent:\n",
    "    def func1(self):\n",
    "        print(\"This function is in parent class.\")\n",
    "class Child(Parent):\n",
    "    def func2(self):\n",
    "        print(\"This function is in child class.\")\n",
    "        \n",
    "object=Child()\n",
    "object.func1()\n",
    "object.func2()"
   ]
  },
  {
   "cell_type": "code",
   "execution_count": 12,
   "id": "813d6112-6b7a-4a47-9dd7-209a04f0737f",
   "metadata": {},
   "outputs": [
    {
     "name": "stdout",
     "output_type": "stream",
     "text": [
      "MULTIPLE INHERITANCE:-When a class can be derived from more than one base class this type of inheritance is \n",
      "called multiple inheritances. In multiple inheritances, all the features of the base classes are inherited into the \n",
      "derived class.\n",
      "\n",
      "\n",
      "Father : RAM\n",
      "Mother : SITA\n"
     ]
    }
   ],
   "source": [
    "multiple=\"\"\"MULTIPLE INHERITANCE:-When a class can be derived from more than one base class this type of inheritance is \n",
    "called multiple inheritances. In multiple inheritances, all the features of the base classes are inherited into the \n",
    "derived class.\"\"\" \n",
    "print(multiple)\n",
    "print(\"\\n\")\n",
    "\n",
    "class Mother:\n",
    "    mothername = \"\"\n",
    "    def mother(self):\n",
    "        print(self.mothername)\n",
    " \n",
    "class Father:\n",
    "    fathername = \"\"\n",
    "    def father(self):\n",
    "        print(self.fathername)\n",
    " \n",
    "class Son(Mother, Father):\n",
    "    def parents(self):\n",
    "        print(\"Father :\", self.fathername)\n",
    "        print(\"Mother :\", self.mothername)\n",
    " \n",
    " \n",
    "# Driver's code\n",
    "s1 = Son()\n",
    "s1.fathername = \"RAM\"\n",
    "s1.mothername = \"SITA\"\n",
    "s1.parents()"
   ]
  },
  {
   "cell_type": "code",
   "execution_count": 13,
   "id": "c36d9254-e7ca-44f7-bc94-50a534f9ff8e",
   "metadata": {},
   "outputs": [
    {
     "name": "stdout",
     "output_type": "stream",
     "text": [
      "Multi-level inheritance: In multilevel inheritance, features of the base class and the derived class are \n",
      "further inherited into the new derived class. This is similar to a relationship representing a child and a grandfather.\n",
      "\n",
      "\n",
      "Lal mani\n",
      "Grandfather name : Lal mani\n",
      "Father name : Rampal\n",
      "Son name : Prince\n"
     ]
    }
   ],
   "source": [
    "Multi_level_=\"\"\"Multi-level inheritance: In multilevel inheritance, features of the base class and the derived class are \n",
    "further inherited into the new derived class. This is similar to a relationship representing a child and a grandfather.\"\"\"\n",
    "print(Multi_level_)\n",
    "print(\"\\n\")\n",
    "\n",
    "class Grandfather:\n",
    "\n",
    "\tdef __init__(self, grandfathername):\n",
    "\t\tself.grandfathername = grandfathername\n",
    "\n",
    "class Father(Grandfather):\n",
    "\tdef __init__(self, fathername, grandfathername):\n",
    "\t\tself.fathername = fathername\n",
    "\n",
    "\t\n",
    "\t\tGrandfather.__init__(self, grandfathername)\n",
    "\n",
    "class Son(Father):\n",
    "\tdef __init__(self, sonname, fathername, grandfathername):\n",
    "\t\tself.sonname = sonname\n",
    "\n",
    "\t\n",
    "\t\tFather.__init__(self, fathername, grandfathername)\n",
    "\n",
    "\tdef print_name(self):\n",
    "\t\tprint('Grandfather name :', self.grandfathername)\n",
    "\t\tprint(\"Father name :\", self.fathername)\n",
    "\t\tprint(\"Son name :\", self.sonname)\n",
    "\n",
    "s1 = Son('Prince', 'Rampal', 'Lal mani')\n",
    "print(s1.grandfathername)\n",
    "s1.print_name()"
   ]
  },
  {
   "cell_type": "code",
   "execution_count": 14,
   "id": "0f9a338a-e2b6-46d5-872a-4e3264cf5d13",
   "metadata": {},
   "outputs": [
    {
     "name": "stdout",
     "output_type": "stream",
     "text": [
      "Hierarchical inheritance: When more than one derived class are created from a single base this \n",
      "type of inheritance is called hierarchical inheritance. \n",
      "\n",
      "\n",
      "This function is in parent class.\n",
      "This function is in child 1.\n",
      "This function is in parent class.\n",
      "This function is in child 2.\n"
     ]
    }
   ],
   "source": [
    "Hierarchical_inheritance=\"\"\"Hierarchical inheritance: When more than one derived class are created from a single base this \n",
    "type of inheritance is called hierarchical inheritance. \"\"\"\n",
    "print(Hierarchical_inheritance)\n",
    "print(\"\\n\")\n",
    "\n",
    "class Parent:\n",
    "    def func1(self):\n",
    "        print(\"This function is in parent class.\")\n",
    "  \n",
    "class Child1(Parent):\n",
    "    def func2(self):\n",
    "        print(\"This function is in child 1.\")\n",
    "  \n",
    "class Child2(Parent):\n",
    "    def func3(self):\n",
    "        print(\"This function is in child 2.\")\n",
    " \n",
    "object1 = Child1()\n",
    "object2 = Child2()\n",
    "object1.func1()\n",
    "object1.func2()\n",
    "object2.func1()\n",
    "object2.func3()"
   ]
  },
  {
   "cell_type": "code",
   "execution_count": 15,
   "id": "35f221cb-2f71-42e6-b620-32fec5be9a42",
   "metadata": {},
   "outputs": [
    {
     "name": "stdout",
     "output_type": "stream",
     "text": [
      "Inheritance consisting of multiple types of inheritance is called hybrid inheritance.\n",
      "\n",
      "\n",
      "This function is in school.\n",
      "This function is in student 1. \n"
     ]
    }
   ],
   "source": [
    "Hybird_inheritance=\"\"\"Inheritance consisting of multiple types of inheritance is called hybrid inheritance.\"\"\"\n",
    "print(Hybird_inheritance)\n",
    "print(\"\\n\")\n",
    "class School:\n",
    "    def func1(self):\n",
    "        print(\"This function is in school.\")\n",
    " \n",
    "class Student1(School):\n",
    "    def func2(self):\n",
    "        print(\"This function is in student 1. \")\n",
    " \n",
    "class Student2(School):\n",
    "    def func3(self):\n",
    "        print(\"This function is in student 2.\")\n",
    " \n",
    "class Student3(Student1, School):\n",
    "    def func4(self):\n",
    "        print(\"This function is in student 3.\")\n",
    " \n",
    "object = Student3()\n",
    "object.func1()\n",
    "object.func2()"
   ]
  },
  {
   "cell_type": "code",
   "execution_count": null,
   "id": "7c397c99-c255-43f5-bc4b-9d343669911f",
   "metadata": {},
   "outputs": [],
   "source": []
  }
 ],
 "metadata": {
  "kernelspec": {
   "display_name": "Python 3 (ipykernel)",
   "language": "python",
   "name": "python3"
  },
  "language_info": {
   "codemirror_mode": {
    "name": "ipython",
    "version": 3
   },
   "file_extension": ".py",
   "mimetype": "text/x-python",
   "name": "python",
   "nbconvert_exporter": "python",
   "pygments_lexer": "ipython3",
   "version": "3.10.8"
  }
 },
 "nbformat": 4,
 "nbformat_minor": 5
}
